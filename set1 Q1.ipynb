{
 "cells": [
  {
   "cell_type": "markdown",
   "id": "b3829a60",
   "metadata": {},
   "source": [
    "Look at the data given below. Plot the data, find the outliers and find out  μ,σ,σ^2"
   ]
  },
  {
   "cell_type": "code",
   "execution_count": 1,
   "id": "b72520bc",
   "metadata": {},
   "outputs": [],
   "source": [
    "#Import Lib\n",
    "import pandas as pd\n",
    "import numpy as np\n",
    "import matplotlib.pyplot as plt\n",
    "import seaborn as sn"
   ]
  },
  {
   "cell_type": "code",
   "execution_count": 5,
   "id": "c3126e03",
   "metadata": {},
   "outputs": [
    {
     "data": {
      "text/plain": [
       "(24.23,\n",
       " 25.53,\n",
       " 25.41,\n",
       " 24.14,\n",
       " 29.62,\n",
       " 28.25,\n",
       " 25.81,\n",
       " 24.39,\n",
       " 40.26,\n",
       " 32.95,\n",
       " 91.36,\n",
       " 25.99,\n",
       " 39.42,\n",
       " 26.71,\n",
       " 35.0)"
      ]
     },
     "execution_count": 5,
     "metadata": {},
     "output_type": "execute_result"
    }
   ],
   "source": [
    "MeasureX=24.23,25.53,25.41,24.14,29.62,28.25,25.81,24.39,40.26,32.95,91.36,25.99,39.42,26.71,35.00\n",
    "MeasureX"
   ]
  },
  {
   "cell_type": "code",
   "execution_count": 8,
   "id": "4f57b30d",
   "metadata": {},
   "outputs": [
    {
     "data": {
      "text/plain": [
       "0     24.23\n",
       "1     25.53\n",
       "2     25.41\n",
       "3     24.14\n",
       "4     29.62\n",
       "5     28.25\n",
       "6     25.81\n",
       "7     24.39\n",
       "8     40.26\n",
       "9     32.95\n",
       "10    91.36\n",
       "11    25.99\n",
       "12    39.42\n",
       "13    26.71\n",
       "14    35.00\n",
       "dtype: float64"
      ]
     },
     "execution_count": 8,
     "metadata": {},
     "output_type": "execute_result"
    }
   ],
   "source": [
    "df=pd.Series(MeasureX)\n",
    "df"
   ]
  },
  {
   "cell_type": "code",
   "execution_count": 9,
   "id": "ec3e81cd",
   "metadata": {},
   "outputs": [],
   "source": [
    "Columns=['Allied Signal','Bankers Trust','General Mills','ITT Industries','J.P.Morgan & Co.','Lehman Brothers',\n",
    "      'Marriott','MCI','Merrill Lynch','Microsoft','Morgan Stanley','Sun Microsystems','Travelers','US Airways',\n",
    "      'Warner-Lambert']"
   ]
  },
  {
   "cell_type": "code",
   "execution_count": 10,
   "id": "22fdc922",
   "metadata": {},
   "outputs": [
    {
     "data": {
      "text/plain": [
       "['Allied Signal',\n",
       " 'Bankers Trust',\n",
       " 'General Mills',\n",
       " 'ITT Industries',\n",
       " 'J.P.Morgan & Co.',\n",
       " 'Lehman Brothers',\n",
       " 'Marriott',\n",
       " 'MCI',\n",
       " 'Merrill Lynch',\n",
       " 'Microsoft',\n",
       " 'Morgan Stanley',\n",
       " 'Sun Microsystems',\n",
       " 'Travelers',\n",
       " 'US Airways',\n",
       " 'Warner-Lambert']"
      ]
     },
     "execution_count": 10,
     "metadata": {},
     "output_type": "execute_result"
    }
   ],
   "source": [
    "Columns"
   ]
  },
  {
   "cell_type": "code",
   "execution_count": 11,
   "id": "34a301d3",
   "metadata": {},
   "outputs": [
    {
     "data": {
      "text/plain": [
       "33.27133333333333"
      ]
     },
     "execution_count": 11,
     "metadata": {},
     "output_type": "execute_result"
    }
   ],
   "source": [
    "df.mean()"
   ]
  },
  {
   "cell_type": "code",
   "execution_count": 12,
   "id": "944a9616",
   "metadata": {},
   "outputs": [
    {
     "data": {
      "text/plain": [
       "26.71"
      ]
     },
     "execution_count": 12,
     "metadata": {},
     "output_type": "execute_result"
    }
   ],
   "source": [
    "df.median()"
   ]
  },
  {
   "cell_type": "code",
   "execution_count": 19,
   "id": "886276f6",
   "metadata": {},
   "outputs": [
    {
     "data": {
      "text/plain": [
       "0     24.14\n",
       "1     24.23\n",
       "2     24.39\n",
       "3     25.41\n",
       "4     25.53\n",
       "5     25.81\n",
       "6     25.99\n",
       "7     26.71\n",
       "8     28.25\n",
       "9     29.62\n",
       "10    32.95\n",
       "11    35.00\n",
       "12    39.42\n",
       "13    40.26\n",
       "14    91.36\n",
       "dtype: float64"
      ]
     },
     "execution_count": 19,
     "metadata": {},
     "output_type": "execute_result"
    }
   ],
   "source": [
    "df.mode()"
   ]
  },
  {
   "cell_type": "code",
   "execution_count": 14,
   "id": "2621e8dc",
   "metadata": {},
   "outputs": [
    {
     "data": {
      "text/plain": [
       "287.1466123809524"
      ]
     },
     "execution_count": 14,
     "metadata": {},
     "output_type": "execute_result"
    }
   ],
   "source": [
    "df.var()"
   ]
  },
  {
   "cell_type": "code",
   "execution_count": 15,
   "id": "fa1d342d",
   "metadata": {},
   "outputs": [
    {
     "data": {
      "text/plain": [
       "16.945400921222028"
      ]
     },
     "execution_count": 15,
     "metadata": {},
     "output_type": "execute_result"
    }
   ],
   "source": [
    "df.std()"
   ]
  },
  {
   "cell_type": "code",
   "execution_count": 22,
   "id": "b6740ea8",
   "metadata": {},
   "outputs": [
    {
     "name": "stderr",
     "output_type": "stream",
     "text": [
      "C:\\Users\\Dell\\anaconda3.1\\lib\\site-packages\\seaborn\\distributions.py:2619: FutureWarning: `distplot` is a deprecated function and will be removed in a future version. Please adapt your code to use either `displot` (a figure-level function with similar flexibility) or `histplot` (an axes-level function for histograms).\n",
      "  warnings.warn(msg, FutureWarning)\n"
     ]
    },
    {
     "data": {
      "text/plain": [
       "<AxesSubplot:ylabel='Density'>"
      ]
     },
     "execution_count": 22,
     "metadata": {},
     "output_type": "execute_result"
    },
    {
     "data": {
      "image/png": "[encoded data removed]",
      "text/plain": [
       "<Figure size 640x480 with 1 Axes>"
      ]
     },
     "metadata": {},
     "output_type": "display_data"
    }
   ],
   "source": [
    "# distplot\n",
    "sn.distplot(df)"
   ]
  },
  {
   "cell_type": "code",
   "execution_count": 26,
   "id": "c47e0d0c",
   "metadata": {},
   "outputs": [
    {
     "data": {
      "image/png": "[encoded data removed]",
      "text/plain": [
       "<Figure size 640x480 with 1 Axes>"
      ]
     },
     "metadata": {},
     "output_type": "display_data"
    }
   ],
   "source": [
    "plt.boxplot(df,vert=False)\n",
    "plt.show()"
   ]
  },
  {
   "cell_type": "code",
   "execution_count": null,
   "id": "83d57f8a",
   "metadata": {},
   "outputs": [],
   "source": []
  }
 ],
 "metadata": {
  "kernelspec": {
   "display_name": "Python 3 (ipykernel)",
   "language": "python",
   "name": "python3"
  },
  "language_info": {
   "codemirror_mode": {
    "name": "ipython",
    "version": 3
   },
   "file_extension": ".py",
   "mimetype": "text/x-python",
   "name": "python",
   "nbconvert_exporter": "python",
   "pygments_lexer": "ipython3",
   "version": "3.9.13"
  }
 },
 "nbformat": 4,
 "nbformat_minor": 5
}
